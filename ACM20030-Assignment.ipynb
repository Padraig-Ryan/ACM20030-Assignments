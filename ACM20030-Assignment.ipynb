{
 "cells": [
  {
   "cell_type": "markdown",
   "metadata": {},
   "source": [
    "# Question 0"
   ]
  },
  {
   "cell_type": "code",
   "execution_count": 1,
   "metadata": {},
   "outputs": [],
   "source": [
    "#Question 0\n",
    "import numpy as np\n",
    "import matplotlib.pyplot as plt"
   ]
  },
  {
   "cell_type": "markdown",
   "metadata": {},
   "source": [
    "# Question 1"
   ]
  },
  {
   "cell_type": "code",
   "execution_count": 2,
   "metadata": {},
   "outputs": [],
   "source": [
    "#Question 1 a)\n",
    "def VectorLength(x,y):\n",
    "    return np.sqrt(x**2+y**2)"
   ]
  },
  {
   "cell_type": "code",
   "execution_count": 3,
   "metadata": {},
   "outputs": [
    {
     "name": "stdout",
     "output_type": "stream",
     "text": [
      "Length of (5,6): 7.810250\n",
      "Length of (-1,5): 5.099020\n"
     ]
    }
   ],
   "source": [
    "#Question 1 b)\n",
    "print(\"Length of (5,6): %f\" %VectorLength(5,6))\n",
    "print(\"Length of (-1,5): %f\" %VectorLength(-1,5))"
   ]
  },
  {
   "cell_type": "code",
   "execution_count": 4,
   "metadata": {},
   "outputs": [
    {
     "name": "stdout",
     "output_type": "stream",
     "text": [
      "Sin(1) = 0.841\n"
     ]
    }
   ],
   "source": [
    "#Question 1 c)\n",
    "print(\"Sin(1) = %0.3f\" %np.sin(1))"
   ]
  },
  {
   "cell_type": "markdown",
   "metadata": {},
   "source": [
    "# Question 2\n",
    "## Question 2 a)\n"
   ]
  },
  {
   "cell_type": "code",
   "execution_count": 5,
   "metadata": {},
   "outputs": [],
   "source": [
    "#Question 2\n",
    "\n",
    "# Function to check if a number is prime\n",
    "def isPrime(n):\n",
    "    i=2\n",
    "    while i < np.sqrt(n): \n",
    "        # for each i check if it divides n\n",
    "        if(n % i ==0):\n",
    "            return 0\n",
    "        i +=1\n",
    "    #If no divisors are found, the number is prime\n",
    "    return 1"
   ]
  },
  {
   "cell_type": "code",
   "execution_count": 6,
   "metadata": {},
   "outputs": [
    {
     "name": "stdout",
     "output_type": "stream",
     "text": [
      "1 1\n",
      "2 1\n",
      "3 1\n",
      "4 1\n",
      "5 1\n",
      "6 0\n",
      "7 1\n",
      "8 0\n",
      "9 1\n",
      "10 0\n"
     ]
    }
   ],
   "source": [
    "for i in range(1,11):\n",
    "    print(i, isPrime(i))\n"
   ]
  },
  {
   "cell_type": "markdown",
   "metadata": {},
   "source": [
    "Problems with the above function:\n",
    "\n",
    "1 is counted as prime,\n",
    "\n",
    "Square numbers with no other factors (i.e. 4, 9, but not 16) are counted as prime\n"
   ]
  },
  {
   "cell_type": "markdown",
   "metadata": {},
   "source": [
    "### Fixed isPrime function"
   ]
  },
  {
   "cell_type": "code",
   "execution_count": 7,
   "metadata": {},
   "outputs": [],
   "source": [
    "#Question 2\n",
    "\n",
    "# Function to check if a number is prime\n",
    "def isPrime(n):\n",
    "    #Question 2 b)\n",
    "    if(n==1): \n",
    "        return 0\n",
    "    i=2\n",
    "    #Question 2 c)\n",
    "    # fixed by changing < to <= ,\n",
    "    # as before the sqrt case was not checked\n",
    "    # this lead to square numbers of the form p**2,\n",
    "    # where p is prime, to be counted as prime\n",
    "    while i <= np.sqrt(n): \n",
    "        #print(i)\n",
    "        # for each i check if it divides n\n",
    "        if(n % i ==0):\n",
    "            return 0\n",
    "        i +=1\n",
    "    #If no divisors are found, the number is prime\n",
    "    return 1"
   ]
  },
  {
   "cell_type": "code",
   "execution_count": 8,
   "metadata": {},
   "outputs": [
    {
     "name": "stdout",
     "output_type": "stream",
     "text": [
      "There are 168 primes less than 1000\n"
     ]
    }
   ],
   "source": [
    "#Question 2 e)\n",
    "primeCount = 0\n",
    "for i in range(1,1000):\n",
    "    if isPrime(i) == 1:\n",
    "        primeCount +=1\n",
    "print (\"There are\", primeCount,\"primes less than 1000\")"
   ]
  },
  {
   "cell_type": "code",
   "execution_count": 9,
   "metadata": {},
   "outputs": [],
   "source": [
    "#Question 2 f)\n",
    "def PrimeCount(x):\n",
    "    count = 0\n",
    "    for i in range(1,x+1): \n",
    "        #notice the x+1 above, \n",
    "        #to ensure all primes less than *or equal* to x are counted\n",
    "        if isPrime(i) == 1:\n",
    "            count +=1\n",
    "    return(count)"
   ]
  },
  {
   "cell_type": "code",
   "execution_count": 10,
   "metadata": {},
   "outputs": [
    {
     "name": "stdout",
     "output_type": "stream",
     "text": [
      "pi(1000): 168\n",
      "pi(10000): 1229\n"
     ]
    }
   ],
   "source": [
    "print(\"pi(1000):\", PrimeCount(1000) )\n",
    "print(\"pi(10000):\", PrimeCount(10000) )\n"
   ]
  },
  {
   "cell_type": "code",
   "execution_count": 11,
   "metadata": {},
   "outputs": [
    {
     "data": {
      "image/png": "[encoded data removed]",
      "text/plain": [
       "<Figure size 432x288 with 1 Axes>"
      ]
     },
     "metadata": {
      "needs_background": "light"
     },
     "output_type": "display_data"
    }
   ],
   "source": [
    "#Question 2 g)\n",
    "x = np.arange(0,40,1)\n",
    "Pi = np.zeros(40)\n",
    "i=0\n",
    "\n",
    "#Bonus Question\n",
    "vect = np.vectorize(PrimeCount)\n",
    "Pi=vect(range(0,40))\n",
    "\n",
    "\n",
    "#Given Code\n",
    "#while i < np.size(Pi):\n",
    "#    Pi[i] = PrimeCount(i)\n",
    "#    i+=1\n",
    "\n",
    "plt.xlabel(\"x\")\n",
    "plt.ylabel(\"Pi(x)\")\n",
    "plt.grid(True)\n",
    "plt.plot(x,Pi,'ro')\n",
    "plt.show()\n"
   ]
  },
  {
   "cell_type": "markdown",
   "metadata": {},
   "source": [
    "# Question 3"
   ]
  },
  {
   "cell_type": "code",
   "execution_count": 12,
   "metadata": {},
   "outputs": [
    {
     "data": {
      "image/png": "[encoded data removed]",
      "text/plain": [
       "<Figure size 432x288 with 1 Axes>"
      ]
     },
     "metadata": {
      "needs_background": "light"
     },
     "output_type": "display_data"
    },
    {
     "data": {
      "image/png": "[encoded data removed]",
      "text/plain": [
       "<Figure size 432x288 with 1 Axes>"
      ]
     },
     "metadata": {
      "needs_background": "light"
     },
     "output_type": "display_data"
    }
   ],
   "source": [
    "#Question 3 b)\n",
    "rawInput = np.loadtxt(\"PowerLawOrExponential.txt\") \n",
    "# works if PowerLawOrExponential.txt is in same directory as \n",
    "# the jupyter notebook file\n",
    "\n",
    "x = rawInput[:, [0]] #column 0 is x\n",
    "y = rawInput[:, [1]] #column 1 is y\n",
    "\n",
    "#Question 3 c)\n",
    "plt.title(\"log plot: x vs ln(y)\")\n",
    "plt.xlabel(\"x\")\n",
    "plt.ylabel(\"ln(y)\")\n",
    "plt.grid(\"True\")\n",
    "plt.plot(x,np.log(y))\n",
    "plt.show()\n",
    "\n",
    "plt.title(\"log-log plot: ln(x) vs ln(y)\")\n",
    "plt.xlabel(\"ln(x)\")\n",
    "plt.ylabel(\"ln(y)\")\n",
    "plt.grid(\"True\")\n",
    "plt.plot(np.log(x),np.log(y))\n",
    "plt.show()\n"
   ]
  },
  {
   "cell_type": "markdown",
   "metadata": {},
   "source": [
    "## Question 3 d)\n",
    "\n",
    "As the log-log plot is a straight line, passing through (0,0), we know \n",
    "\n",
    "$ \\ln(y) = n \\cdot \\ln(x) $\n",
    "\n",
    "$ \\ln(y) = \\ln(x^n)$\n",
    "\n",
    "$ y = x^n $\n",
    "\n",
    "Therefore this obeys a power law function, $ y= x^n$\n",
    "\n",
    "\n",
    "## Question 3 e)\n",
    "\n",
    "$(0,0)$ and $(1,1)$ are 2 points on the log-log plot\n",
    "\n",
    "Calculating Slope: $ n =\\frac{y_2-y_1}{x_2-x_1} = \\frac{2-0}{1-0} = 2$\n",
    "\n",
    "$n$ is $2$\n"
   ]
  }
 ],
 "metadata": {
  "kernelspec": {
   "display_name": "Python 3",
   "language": "python",
   "name": "python3"
  },
  "language_info": {
   "codemirror_mode": {
    "name": "ipython",
    "version": 3
   },
   "file_extension": ".py",
   "mimetype": "text/x-python",
   "name": "python",
   "nbconvert_exporter": "python",
   "pygments_lexer": "ipython3",
   "version": "3.8.2"
  }
 },
 "nbformat": 4,
 "nbformat_minor": 2
}
