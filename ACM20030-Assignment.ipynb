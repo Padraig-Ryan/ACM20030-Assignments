{
 "cells": [
  {
   "cell_type": "code",
   "execution_count": 1,
   "metadata": {},
   "outputs": [],
   "source": [
    "#Question 0\n",
    "import numpy as np\n",
    "import matplotlib.pyplot as plt\n"
   ]
  },
  {
   "cell_type": "code",
   "execution_count": 2,
   "metadata": {},
   "outputs": [],
   "source": [
    "#Question 1 a)\n",
    "def VectorLength(x,y):\n",
    "    return np.sqrt(x**2+y**2)"
   ]
  },
  {
   "cell_type": "code",
   "execution_count": 3,
   "metadata": {},
   "outputs": [
    {
     "name": "stdout",
     "output_type": "stream",
     "text": [
      "Length of (5,6): 7.810250\n",
      "Length of (-1,5): 5.099020\n"
     ]
    }
   ],
   "source": [
    "#Question 1 b)\n",
    "print(\"Length of (5,6): %f\" %VectorLength(5,6))\n",
    "print(\"Length of (-1,5): %f\" %VectorLength(-1,5))"
   ]
  },
  {
   "cell_type": "code",
   "execution_count": 4,
   "metadata": {},
   "outputs": [
    {
     "name": "stdout",
     "output_type": "stream",
     "text": [
      "Sin(1) = 0.841\n"
     ]
    }
   ],
   "source": [
    "#Question 1 c)\n",
    "print(\"Sin(1) = %0.3f\" %np.sin(1))"
   ]
  },
  {
   "cell_type": "code",
   "execution_count": 5,
   "metadata": {},
   "outputs": [],
   "source": [
    "#Question 2\n",
    "\n",
    "# Function to check if a number is prime\n",
    "def isPrime(n):\n",
    "    #Question 2 b)\n",
    "    if(n==1): \n",
    "        return 0\n",
    "    i=2\n",
    "    #Question 2 c)\n",
    "    # fixed by changing < to <= as before\n",
    "    # the sqrt case was not checked\n",
    "\n",
    "    while i <= np.sqrt(n): \n",
    "        #print(i)\n",
    "        # for each i check if it divides n\n",
    "        if(n % i ==0):\n",
    "            return 0\n",
    "        i +=1\n",
    "    #If no divisors are found, the number is prime\n",
    "    return 1"
   ]
  },
  {
   "cell_type": "code",
   "execution_count": 6,
   "metadata": {},
   "outputs": [
    {
     "name": "stdout",
     "output_type": "stream",
     "text": [
      "1 0\n",
      "2 1\n",
      "3 1\n",
      "4 0\n",
      "5 1\n",
      "6 0\n",
      "7 1\n",
      "8 0\n",
      "9 0\n",
      "10 0\n"
     ]
    }
   ],
   "source": [
    "for i in range(1,11):\n",
    "    print(i, isPrime(i))\n",
    "    "
   ]
  },
  {
   "cell_type": "code",
   "execution_count": 7,
   "metadata": {},
   "outputs": [
    {
     "name": "stdout",
     "output_type": "stream",
     "text": [
      "There are 168 primes less than 1000\n"
     ]
    }
   ],
   "source": [
    "#Question 2 e)\n",
    "primeCount = 0\n",
    "for i in range(1,1000):\n",
    "    if isPrime(i) == 1:\n",
    "        primeCount +=1\n",
    "print (\"There are\", primeCount,\"primes less than 1000\")"
   ]
  },
  {
   "cell_type": "code",
   "execution_count": 8,
   "metadata": {},
   "outputs": [],
   "source": [
    "#Question 2 f)\n",
    "def PrimeCount(x):\n",
    "    count = 0\n",
    "    for i in range(1,x+1):\n",
    "        if isPrime(i) == 1:\n",
    "            count +=1\n",
    "    return(count)"
   ]
  },
  {
   "cell_type": "code",
   "execution_count": 9,
   "metadata": {},
   "outputs": [
    {
     "name": "stdout",
     "output_type": "stream",
     "text": [
      "pi(1000): 168\n",
      "pi(10000): 1229\n"
     ]
    }
   ],
   "source": [
    "print(\"pi(1000):\", PrimeCount(1000) )\n",
    "print(\"pi(10000):\", PrimeCount(10000) )\n"
   ]
  },
  {
   "cell_type": "code",
   "execution_count": 10,
   "metadata": {},
   "outputs": [
    {
     "data": {
      "text/plain": [
       "[<matplotlib.lines.Line2D at 0x7fef1517eeb0>]"
      ]
     },
     "execution_count": 10,
     "metadata": {},
     "output_type": "execute_result"
    },
    {
     "data": {
      "image/png": "[encoded data removed]",
      "text/plain": [
       "<Figure size 432x288 with 1 Axes>"
      ]
     },
     "metadata": {
      "needs_background": "light"
     },
     "output_type": "display_data"
    }
   ],
   "source": [
    "#Question 2 g)\n",
    "x = np.arange(0,40,1)\n",
    "Pi = np.zeros(40)\n",
    "i=0\n",
    "\n",
    "#Bonus Question\n",
    "vect = np.vectorize(PrimeCount)\n",
    "Pi=vect(range(0,40))\n",
    "\n",
    "#print(Pi)\n",
    "\n",
    "#while i < np.size(Pi):\n",
    "#    Pi[i] = PrimeCount(i)\n",
    "#    i+=1\n",
    "\n",
    "plt.xlabel(\"x\")\n",
    "plt.ylabel(\"Pi(x)\")\n",
    "plt.grid(True)\n",
    "plt.plot(x,Pi,'ro')\n"
   ]
  },
  {
   "cell_type": "code",
   "execution_count": 11,
   "metadata": {},
   "outputs": [],
   "source": [
    "#Question 3\n"
   ]
  }
 ],
 "metadata": {
  "kernelspec": {
   "display_name": "Python 3",
   "language": "python",
   "name": "python3"
  },
  "language_info": {
   "codemirror_mode": {
    "name": "ipython",
    "version": 3
   },
   "file_extension": ".py",
   "mimetype": "text/x-python",
   "name": "python",
   "nbconvert_exporter": "python",
   "pygments_lexer": "ipython3",
   "version": "3.8.1"
  }
 },
 "nbformat": 4,
 "nbformat_minor": 2
}
