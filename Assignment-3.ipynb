{
 "cells": [
  {
   "cell_type": "markdown",
   "metadata": {},
   "source": [
    "# Assignment 3\n",
    "This assignment covers material on fitting data and solving ODEs. The assignment is due on by 7pm on Friday the 6th of March.\n",
    "\n",
    "The breakdown of the marks is as follows:\n",
    "\n",
    "Q0: [1 mark]  \n",
    "Q1: [7 marks]  \n",
    "Q2: [5 marks]  \n",
    "Q3: [5 marks]  \n",
    "Q4: [5 marks]  \n",
    "Q5: [7 marks]  "
   ]
  },
  {
   "cell_type": "markdown",
   "metadata": {},
   "source": [
    "# Question 0\n",
    "\n",
    "You should have saved this notebook to your ACM20030-Assignments folder. Now:\n",
    "- commit the notebook to your local repository\n",
    "- push the changes to the GitHub"
   ]
  },
  {
   "cell_type": "code",
   "execution_count": 1,
   "metadata": {},
   "outputs": [],
   "source": [
    "import numpy as np\n",
    "import matplotlib.pyplot as plt\n",
    "\n",
    "# The below commands make the font and image size bigger\n",
    "plt.rcParams.update({'font.size': 22})\n",
    "plt.rcParams[\"figure.figsize\"] = (15,10)"
   ]
  },
  {
   "cell_type": "markdown",
   "metadata": {},
   "source": [
    "## Question 1: Linear least-square fitting\n",
    "This questions asks you to write a function to find the best linear fit to a dataset and then apply that function to a few data sets. As always when testing a new piece of code, you should first test the code on a small data set for which you know the result. The other advantage of testing with a small dataset is that you can manually check each step of the calculation if you need to debug the code.\n",
    "\n",
    "The normal equations for linear least-squares fitting are given by:  \n",
    "  \n",
    "$$\n",
    "  \\begin{align*}\n",
    "    m \\sum x_i^2 + c \\sum x_i &= \\sum x_i y_i \\\\\n",
    "    m \\sum x_i + cn &= \\sum y_i\n",
    "  \\end{align*}\n",
    "$$\n",
    "  \n",
    "Write these simultaneous equations in matrix for $A.x = b$, where $A$ is a $2\\times2$ matrix and $x=\\{m,c\\}$ and $b$ are column vectors. Note that for a $2\\times2$ matrix \n",
    "$$\n",
    "A = \\begin{pmatrix}\n",
    "    a  & b \\\\\n",
    "    c  & d \n",
    "\\end{pmatrix}\n",
    "$$\n",
    "the inverse is given by\n",
    "$$\n",
    "A^{-1} = \\frac{1}{ad-bc}\\begin{pmatrix}\n",
    "    d  & -b \\\\\n",
    "    -c  & a \n",
    "\\end{pmatrix}\n",
    "$$"
   ]
  },
  {
   "cell_type": "markdown",
   "metadata": {},
   "source": [
    "\n",
    "$$\n",
    "A = \\begin{pmatrix}\n",
    "    {\\sum x_i^2}  & {\\sum x_i} \\\\ \\\\\n",
    "    {\\sum x_i}  & n \n",
    "\\end{pmatrix}\n",
    "$$\n",
    "\n",
    "$$\n",
    "x=\n",
    "\\begin{bmatrix}\n",
    "    m \\\\ c\n",
    "\\end{bmatrix}\n",
    "$$\n",
    "\n",
    "$$\n",
    "b=\n",
    "\\begin{bmatrix}\n",
    "    \\sum x_i y_i  \\\\  \\sum y_i\n",
    "\\end{bmatrix}\n",
    "$$\n",
    "\n",
    "$$x = A^{-1} \\cdot b$$\n"
   ]
  },
  {
   "cell_type": "markdown",
   "metadata": {},
   "source": [
    "$$\n",
    "\\begin{bmatrix}\n",
    "    m \\\\ c\n",
    "\\end{bmatrix}\n",
    "=\n",
    "\\frac{1}{(\\sum x_i^2)(n)-(\\sum x_i)(\\sum x_i)}\n",
    "\\begin{pmatrix}\n",
    "    {n}  & {-\\sum x_i} \\\\ \\\\\n",
    "    {-\\sum x_i}  & \\sum x_i^2 \n",
    "\\end{pmatrix}\n",
    "\\begin{bmatrix}\n",
    "    \\sum x_i y_i  \\\\  \\sum y_i\n",
    "\\end{bmatrix}\n",
    "$$"
   ]
  },
  {
   "cell_type": "markdown",
   "metadata": {},
   "source": [
    "### Q1a.\n",
    "\n",
    "Write a function that takes in two arrays of data for the x and y values and returns the values of $m$ and $c$ from for the linear least squares fit. Call the function `LinearLeastSquares`. You might want to use the function `np.dot(A,b)` which will take the dot product of a matrix, $A$ and a vector, $b$."
   ]
  },
  {
   "cell_type": "code",
   "execution_count": 35,
   "metadata": {},
   "outputs": [],
   "source": [
    "def LinearLeastSquares(x,y):\n",
    "    n = len(x)\n",
    "    xsum = 0\n",
    "    xsqsum = 0\n",
    "    ysum = 0\n",
    "    xysum = 0\n",
    "    for i in range(len(x)):\n",
    "        xsum+= x[i]\n",
    "        xsqsum+= x[i]**2\n",
    "        ysum+= y[i]\n",
    "        xysum += x[i]*y[i]\n",
    "    Ainverse = np.array([[n,-1*xsum],[-1*xsum,xsqsum]])\n",
    "    vector = [xysum,ysum]\n",
    "    \n",
    "    factor= 1/(n*xsqsum - xsum**2)\n",
    "    \n",
    "    return factor * np.dot(Ainverse,vector)"
   ]
  },
  {
   "cell_type": "markdown",
   "metadata": {},
   "source": [
    "Test you function with the data we looked at in the lecture, given below:"
   ]
  },
  {
   "cell_type": "code",
   "execution_count": 36,
   "metadata": {},
   "outputs": [],
   "source": [
    "testdata  = np.array([[20.5, 765], [32.7, 826], [51.0, 873], [73.2,942], [95.7,1032]])"
   ]
  },
  {
   "cell_type": "markdown",
   "metadata": {},
   "source": [
    "You should get the result $m=3.394872522996579$ and $c=702.1720627939267$. Explicitly print these values out."
   ]
  },
  {
   "cell_type": "code",
   "execution_count": 37,
   "metadata": {},
   "outputs": [
    {
     "name": "stdout",
     "output_type": "stream",
     "text": [
      "m = 3.394872522996584 and c = 702.1720627939272\n"
     ]
    }
   ],
   "source": [
    "testLinearLeasrSquareResult = LinearLeastSquares(testdata[:,0],testdata[:,1])\n",
    "print(\"m = %0.15f and c = %0.13f\"%(testLinearLeasrSquareResult[0],testLinearLeasrSquareResult[1]))"
   ]
  },
  {
   "cell_type": "markdown",
   "metadata": {},
   "source": [
    "### Q1b\n",
    "Plot the data, using `plt.scatter(xi, yi)`, and the best fit curve over the full range of the data. Add a legend to the plot that labels the data and line with its equation."
   ]
  },
  {
   "cell_type": "code",
   "execution_count": 43,
   "metadata": {},
   "outputs": [
    {
     "data": {
      "text/plain": [
       "[<matplotlib.lines.Line2D at 0x7fe73f523040>]"
      ]
     },
     "execution_count": 43,
     "metadata": {},
     "output_type": "execute_result"
    },
    {
     "data": {
      "image/png": "[encoded data removed]",
      "text/plain": [
       "<Figure size 1080x720 with 1 Axes>"
      ]
     },
     "metadata": {
      "needs_background": "light"
     },
     "output_type": "display_data"
    }
   ],
   "source": [
    "plt.scatter(testdata[:,0],testdata[:,1])\n",
    "x = np.arange(0,max(testdata[:,0])+1,0.1)\n",
    "plt.plot(x,testLinearLeasrSquareResult[0]*x+testLinearLeasrSquareResult[1])"
   ]
  },
  {
   "cell_type": "markdown",
   "metadata": {},
   "source": [
    "### Q1c\n",
    "Load the data in `FitData1.dat` and fit the data using your `LinearLeastSquares` function. Print out the value of $m$ and $c$ to 5 decimal places, and plot the data and the fit."
   ]
  },
  {
   "cell_type": "code",
   "execution_count": null,
   "metadata": {},
   "outputs": [],
   "source": []
  },
  {
   "cell_type": "markdown",
   "metadata": {},
   "source": [
    "### Q1d\n",
    "Load the data in `FitData2.dat`. Determine whether this data is (approximately) power law or exponential. Depending on the answer, fit either the log or log-log of the data using your `LinearLeastSquares` function. Print the values of $m$ and $c$, and plot the (log or log-log of the) data and the fit. State explicitly what the approximate behaviour of the data is."
   ]
  },
  {
   "cell_type": "code",
   "execution_count": null,
   "metadata": {},
   "outputs": [],
   "source": []
  },
  {
   "cell_type": "markdown",
   "metadata": {},
   "source": [
    "Commit and push your code to GitHub"
   ]
  },
  {
   "cell_type": "markdown",
   "metadata": {},
   "source": [
    "## Question 2: second-order ODEs\n",
    "\n",
    "Use the below second-order version of the (fixed-step) RK2 function for this question."
   ]
  },
  {
   "cell_type": "code",
   "execution_count": 42,
   "metadata": {},
   "outputs": [],
   "source": [
    "def RK2(f, dx, x0, y0, imax):\n",
    "    output = np.empty((imax, 3))\n",
    "    i = 0\n",
    "    xi = x0\n",
    "    yi = y0\n",
    "    while(i < imax):\n",
    "        k1 = dx*f(xi, yi)\n",
    "        k2 = dx*f(xi + dx, yi + k1)\n",
    "        yi = yi + 0.5*(k1 + k2)\n",
    "        xi += dx\n",
    "        output[i, 0] = xi\n",
    "        output[i, 1] = yi[0]\n",
    "        output[i, 2] = yi[1]\n",
    "        i += 1\n",
    "    return output"
   ]
  },
  {
   "cell_type": "markdown",
   "metadata": {},
   "source": [
    "### Q2a\n",
    "\n",
    "Write the follow ODEs in first-order form and then solve them using the `RK2` function. Plot the numerical and analytic solution on the same plot (with a grid, labelling the axes and a legend).\n",
    "\n",
    "$$\n",
    " y''(x) - y'(x) +\\frac{1}{4} y(x) = -\\sin(x)\n",
    "$$\n",
    "with $y(0) = 0, y'(0) = 73/100$. Find the numerical solution between $x=0$ and $x=9$.\n",
    "\n",
    "This has the analytic solution:\n",
    "\n",
    "$$\n",
    "y(x) = \\frac{1}{100} \\left(-7 e^{x/2} x+64 e^{x/2}+48 \\sin (x)-64 \\cos (x)\\right)\n",
    "$$\n",
    "\n",
    "For the numerical solution, start with a step size of $\\Delta x = 0.1$. You may need to adjust this to get the numerical solution to agree with the analytic solution."
   ]
  },
  {
   "cell_type": "code",
   "execution_count": 43,
   "metadata": {},
   "outputs": [],
   "source": []
  },
  {
   "cell_type": "markdown",
   "metadata": {},
   "source": [
    "How small do you have to make the step size for the numerical solution to agree well with the analytic solution? What does this suggest about the equation?"
   ]
  },
  {
   "cell_type": "code",
   "execution_count": null,
   "metadata": {},
   "outputs": [],
   "source": [
    "# Write answer here"
   ]
  },
  {
   "cell_type": "markdown",
   "metadata": {},
   "source": [
    "### Q2b\n",
    "\n",
    "Write the follow ODEs in first-order form and then solve them using the `RK2` function. Plot the numerical solution (with a grid and labelling the axes). There is no analytic solution to compare against.\n",
    "\n",
    "$$y''(x) + x y'(x) - \\sin(x) y(x) = 0 $$"
   ]
  },
  {
   "cell_type": "code",
   "execution_count": 47,
   "metadata": {},
   "outputs": [],
   "source": []
  },
  {
   "cell_type": "markdown",
   "metadata": {},
   "source": [
    "Commit and push your code to GitHub"
   ]
  },
  {
   "cell_type": "markdown",
   "metadata": {},
   "source": [
    "## Question 3: chaos\n",
    "\n",
    "(Q3a): Use SciPy's `solve_ivp` to solve the Lorenz system:\n",
    "\n",
    "$$\\begin{align}\n",
    "\\frac{dx}{dt} &= \\sigma(y-x) \\\\\n",
    "\\frac{dy}{dt} &= x(\\rho -z) - y   \\\\\n",
    "\\frac{dz}{dt} &= x y- \\beta z\n",
    "\\end{align}$$\n",
    "\n",
    "with $ \\rho = 28$, $\\sigma = 10$ and $\\beta = 8/3$, and initial conditions $x(0) = 1, y(0) = 1, z(0) = 1$.\n",
    "\n",
    "You'll need to `import` the `solve_ivp` function from `scipy`. Solve for the solution between $x=0$ and $x=30$ and pass the optional argument `t_eval=np.linspace(0,30,10000)` to `solve_ivp` to densely sample the result."
   ]
  },
  {
   "cell_type": "code",
   "execution_count": null,
   "metadata": {},
   "outputs": [],
   "source": []
  },
  {
   "cell_type": "markdown",
   "metadata": {},
   "source": [
    "Assign your solution to a variable called `solLorenz` and use the following code to make a 3D plot of the solution"
   ]
  },
  {
   "cell_type": "code",
   "execution_count": null,
   "metadata": {},
   "outputs": [],
   "source": []
  },
  {
   "cell_type": "markdown",
   "metadata": {},
   "source": [
    "(Q3b): The Lorenz ODEs are a classic example of a system of ODEs which exhibit chaos, i.e., small changes in the initial parameters will result in large changes to the solution at late times. To see this, solve the Lorenz system again with initial parameters $x(0) = 1 + 10^{-5}, y(0) = 1, z(0) = 1$, and plot both this solution and the previous solution on a new 3D plot."
   ]
  },
  {
   "cell_type": "code",
   "execution_count": 54,
   "metadata": {},
   "outputs": [],
   "source": []
  },
  {
   "cell_type": "markdown",
   "metadata": {},
   "source": [
    "You should see that initially the two curves are together but later one they start to diverge. The Lorenz system was original developed as a simple model of atmospheric convection and already this simple system, much like real weather, displays chaotic behaviour."
   ]
  },
  {
   "cell_type": "markdown",
   "metadata": {},
   "source": [
    "Commit and push your code to GitHub"
   ]
  },
  {
   "cell_type": "markdown",
   "metadata": {},
   "source": [
    "## Question 4: equilbrium points\n",
    "\n",
    "Using `solve_ivp` solve the non-linear first-order equation:\n",
    "\n",
    "$$u'(x) = u(x)[1-u(x)]$$\n",
    "\n",
    "Find and plot the solution between $x=0$ and $x=8$ for the following 10 initial values: $u(x) = \\{0, 0.2, 0.4, 0.6, 0.8, 1, 1.2, 1.4, 1.8\\}$. Draw a grid on the plot and label your axes.\n",
    "\n",
    "You should find the systems with initial values $u(0) = \\{0,1\\}$ do not evolve as the right-hand side equals zero in these cases. These two values are called *equilibrium points*. You should observe that systems with $u(0) > 0$ should tend to $u=1$ for large $x$ (and away from $u=1$). For this reason we say that $u=1$ is a stable equilbrium and $u=0$ is an unstable equilbrium."
   ]
  },
  {
   "cell_type": "code",
   "execution_count": null,
   "metadata": {},
   "outputs": [],
   "source": []
  },
  {
   "cell_type": "markdown",
   "metadata": {},
   "source": [
    "Commit and push your code to GitHub"
   ]
  },
  {
   "cell_type": "markdown",
   "metadata": {},
   "source": [
    "## Question 5: implicit methods\n",
    "\n",
    "Write a function to solve the following first-order ODE using the backwards Euler method:\n",
    "\n",
    "$$\n",
    "y'(x) = -y(x) + x\n",
    "$$\n",
    "with $y(0) = 1$\n",
    "\n",
    "This has the analytic solution\n",
    "$$\n",
    " y(x) = -1 + 2e^{-x} + x\n",
    "$$\n",
    "\n",
    "Plot the numerical and analytics solutions. Show a grid, label your axes and show a legend."
   ]
  },
  {
   "cell_type": "code",
   "execution_count": 59,
   "metadata": {},
   "outputs": [],
   "source": []
  },
  {
   "cell_type": "markdown",
   "metadata": {},
   "source": [
    "Commit and push your code to GitHub"
   ]
  },
  {
   "cell_type": "markdown",
   "metadata": {},
   "source": [
    "To hand in the assignment: **Zip/compress the directory containing all your assignments and upload it to BrightSpace**"
   ]
  }
 ],
 "metadata": {
  "kernelspec": {
   "display_name": "Python 3",
   "language": "python",
   "name": "python3"
  },
  "language_info": {
   "codemirror_mode": {
    "name": "ipython",
    "version": 3
   },
   "file_extension": ".py",
   "mimetype": "text/x-python",
   "name": "python",
   "nbconvert_exporter": "python",
   "pygments_lexer": "ipython3",
   "version": "3.8.2"
  }
 },
 "nbformat": 4,
 "nbformat_minor": 2
}
