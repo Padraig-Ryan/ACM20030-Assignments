{
 "cells": [
  {
   "cell_type": "markdown",
   "metadata": {},
   "source": [
    "#  Assignment 5\n",
    "\n",
    "This assignment covers material on matrices, norms, condition numbers and eigensystems. The assignment is due by 5pm on Friday the 17th of April.\n",
    "\n",
    "The breakdown of the marks is as follows:\n",
    "\n",
    "Question 0 - [1 mark]  \n",
    "Question 1 - [7 marks]  \n",
    "Questino 2 - [6 marks]  \n",
    "Question 3 - [7 marks]  \n",
    "Question 4 - [9 marks]  "
   ]
  },
  {
   "cell_type": "markdown",
   "metadata": {},
   "source": [
    "# Question 0\n",
    "\n",
    "You should have saved this notebook to your ACM20030-Assignments folder. Now:\n",
    "- commit the notebook to your local repository\n",
    "- push the changes to the GitHub"
   ]
  },
  {
   "cell_type": "code",
   "execution_count": 1,
   "metadata": {},
   "outputs": [],
   "source": [
    "import numpy as np\n",
    "from numpy import linalg as la\n",
    "np.set_printoptions(linewidth=200)  # This stops line wrapping of larger matrices"
   ]
  },
  {
   "cell_type": "markdown",
   "metadata": {},
   "source": [
    "# Question 1 - practice manipulating arrays\n",
    "\n",
    "This questions asks you write a few functions for manipulating arrays of data"
   ]
  },
  {
   "cell_type": "markdown",
   "metadata": {},
   "source": [
    "## Q1 a\n",
    "\n",
    "Write a function that checks if a given $n\\times n$ matrix is symmetric. Use only loops and `.shape` function from numpy (do not use any other special numpy functions)."
   ]
  },
  {
   "cell_type": "code",
   "execution_count": 31,
   "metadata": {},
   "outputs": [],
   "source": [
    "def checkSymmetric(a):\n",
    "    n=a.shape[0]\n",
    "    if(not n == a.shape[1]):\n",
    "        return \"matrix is not square\"\n",
    "    \n",
    "    #checks if the upper right triangle (not including the centre line of entries) equals the bottom left triangle\n",
    "    for i in range(0,n):\n",
    "        for j in range(i+1,n):\n",
    "            if(not a[i,j]==a[j,i]):\n",
    "                return False\n",
    "                \n",
    "    return True"
   ]
  },
  {
   "cell_type": "markdown",
   "metadata": {},
   "source": [
    "Test your function on the two matrices below"
   ]
  },
  {
   "cell_type": "code",
   "execution_count": 28,
   "metadata": {},
   "outputs": [],
   "source": [
    "A = np.random.rand(5,5)\n",
    "SymMatrix = (A + A.T)/2"
   ]
  },
  {
   "cell_type": "code",
   "execution_count": 33,
   "metadata": {},
   "outputs": [
    {
     "data": {
      "text/plain": [
       "False"
      ]
     },
     "execution_count": 33,
     "metadata": {},
     "output_type": "execute_result"
    }
   ],
   "source": [
    "checkSymmetric(A)"
   ]
  },
  {
   "cell_type": "code",
   "execution_count": 32,
   "metadata": {},
   "outputs": [
    {
     "data": {
      "text/plain": [
       "True"
      ]
     },
     "execution_count": 32,
     "metadata": {},
     "output_type": "execute_result"
    }
   ],
   "source": [
    "checkSymmetric(SymMatrix)"
   ]
  },
  {
   "cell_type": "markdown",
   "metadata": {},
   "source": [
    "## Q1 b\n",
    "\n",
    "Write a function to transpose a general $n\\times n$ matrix. Do this by writing loops and not using any special functions like `np.transpose()`, `A.T`, or any functions from any other library."
   ]
  },
  {
   "cell_type": "code",
   "execution_count": 37,
   "metadata": {},
   "outputs": [],
   "source": [
    "def matrixTranspose(a):\n",
    "    n=a.shape[0]\n",
    "    if(not n == a.shape[1]):\n",
    "        return \"matrix is not square\"\n",
    "    out = np.zeros((n,n))\n",
    "    for i in range(n):\n",
    "        for j in range(n):\n",
    "            out[j,i]=a[i,j]\n",
    "    #print(out)\n",
    "    return out\n",
    "\n",
    "def matrixEquals(a,b):\n",
    "    if (not len(a)==len(b)):\n",
    "        return False\n",
    "    if (not len(a[0])==len(b[0])):\n",
    "        return False\n",
    "    for i in range(len(a)):\n",
    "        for j in range(len(a[0])):\n",
    "            if(not a[i,j]==b[i,j]):\n",
    "                return False\n",
    "    return True"
   ]
  },
  {
   "cell_type": "markdown",
   "metadata": {},
   "source": [
    "Check your code by transposing the below random matrix and checking that $A^T \\neq A$ and $(A^T)^T - A = 0$"
   ]
  },
  {
   "cell_type": "code",
   "execution_count": 38,
   "metadata": {
    "scrolled": false
   },
   "outputs": [
    {
     "name": "stdout",
     "output_type": "stream",
     "text": [
      "A: [[5.74551137e-01 7.75607173e-01 2.23369205e-01 2.44504450e-01 1.52875102e-01 8.69987076e-01]\n",
      " [1.41638130e-01 9.21283813e-01 6.65275942e-02 1.21731992e-01 6.23843651e-01 5.22042072e-01]\n",
      " [5.46843684e-01 9.79304031e-02 1.89389775e-01 9.60082145e-01 2.54474952e-01 5.22642868e-01]\n",
      " [4.79476369e-01 2.85232690e-01 2.66043006e-01 6.24718002e-01 8.79129067e-01 1.31779453e-01]\n",
      " [4.90666409e-01 1.68618141e-01 5.45699285e-01 2.88803201e-01 3.09383494e-01 3.89282511e-01]\n",
      " [2.40898749e-04 1.27377758e-01 8.98408243e-01 9.32229904e-01 2.34516444e-01 3.10292011e-01]] \n",
      "\n",
      "A^T: [[5.74551137e-01 1.41638130e-01 5.46843684e-01 4.79476369e-01 4.90666409e-01 2.40898749e-04]\n",
      " [7.75607173e-01 9.21283813e-01 9.79304031e-02 2.85232690e-01 1.68618141e-01 1.27377758e-01]\n",
      " [2.23369205e-01 6.65275942e-02 1.89389775e-01 2.66043006e-01 5.45699285e-01 8.98408243e-01]\n",
      " [2.44504450e-01 1.21731992e-01 9.60082145e-01 6.24718002e-01 2.88803201e-01 9.32229904e-01]\n",
      " [1.52875102e-01 6.23843651e-01 2.54474952e-01 8.79129067e-01 3.09383494e-01 2.34516444e-01]\n",
      " [8.69987076e-01 5.22042072e-01 5.22642868e-01 1.31779453e-01 3.89282511e-01 3.10292011e-01]] \n",
      "\n",
      "A==A^T? False \n",
      "\n",
      "(A^T)^T-A==0? True \n",
      "\n"
     ]
    }
   ],
   "source": [
    "A = np.random.rand(6,6)\n",
    "At = matrixTranspose(A)\n",
    "print(\"A:\",A,\"\\n\")\n",
    "print(\"A^T:\",At,\"\\n\")\n",
    "print(\"A==A^T?\",matrixEquals(A,At),\"\\n\")\n",
    "print(\"(A^T)^T-A==0?\",matrixEquals(matrixTranspose(At)-A,np.zeros((len(A),len(A)))),\"\\n\")\n"
   ]
  },
  {
   "cell_type": "markdown",
   "metadata": {},
   "source": [
    "## Q1c\n",
    "\n",
    "Write a function that finds the maximum entry in a matrix (where the matrix does not need to be square). Do this by writing loops and not using any special functions like `np.max` or any functions from any other library."
   ]
  },
  {
   "cell_type": "code",
   "execution_count": 45,
   "metadata": {},
   "outputs": [],
   "source": [
    "def matrixMax(a):\n",
    "    \n",
    "    maxIndex = (0,0)\n",
    "    maxValue = a[maxIndex]\n",
    "    #print(maxValue)\n",
    "    for i in range(len(a)):\n",
    "        for j in range(len(a[0])):\n",
    "            if(a[i,j]>maxValue):\n",
    "                maxValue = a[i,j]\n",
    "                maxIndex = (i,j)\n",
    "    return maxValue"
   ]
  },
  {
   "cell_type": "markdown",
   "metadata": {},
   "source": [
    "Check your result by comparing to `np.max(A)` for the below random matrix"
   ]
  },
  {
   "cell_type": "code",
   "execution_count": 47,
   "metadata": {},
   "outputs": [
    {
     "name": "stdout",
     "output_type": "stream",
     "text": [
      "My maximum value: 0.804612\n",
      "NumPy's maximum value: 0.804612\n"
     ]
    }
   ],
   "source": [
    "A = np.random.rand(4,5)\n",
    "#print(A[0,0])\n",
    "print(\"My maximum value: %f\\nNumPy's maximum value: %f\"%(matrixMax(A),np.max(A)))"
   ]
  },
  {
   "cell_type": "markdown",
   "metadata": {},
   "source": [
    "# Question 2:  matrix norms\n",
    "\n",
    "In the lectures we focused on the $L^2$-norm. We also briefly mentioned the $L^1$ and $L^\\infty$ norm. Let's look at calculating those as well for a general $m\\times n$ matrix."
   ]
  },
  {
   "cell_type": "markdown",
   "metadata": {},
   "source": [
    "# Q2a\n",
    "\n",
    "The $L^1$ norm is given by\n",
    "\n",
    "$$ \\lVert A \\rVert_1 = \\max_j \\sum^m_{i=1} |a_{ij}| $$\n",
    "\n",
    "i.e., it is the max of the sums of the absolute values of each column. Write a function that computes the $L^1$-norm using only loops. The function should use no special numpy functions except `np.abs()`."
   ]
  },
  {
   "cell_type": "code",
   "execution_count": 49,
   "metadata": {},
   "outputs": [],
   "source": [
    "def L1Norm(a):\n",
    "    maxValue = 0\n",
    "    maxbool=True\n",
    "    for j in range(len(a[0])):\n",
    "        currentSum = 0\n",
    "        for i in range(len(a)):\n",
    "            currentSum +=np.abs(a[i,j])\n",
    "        if(maxbool):\n",
    "            maxbool=False\n",
    "            maxValue=currentSum\n",
    "        else:\n",
    "            if currentSum>maxValue:\n",
    "                maxValue = currentSum\n",
    "    return maxValue"
   ]
  },
  {
   "cell_type": "markdown",
   "metadata": {},
   "source": [
    "Check your result against NumPy's `la.norm(A,1)` function for the following random matrix"
   ]
  },
  {
   "cell_type": "code",
   "execution_count": 50,
   "metadata": {},
   "outputs": [
    {
     "name": "stdout",
     "output_type": "stream",
     "text": [
      "My value for the L^1-norm: 2.4965747882569773\n",
      "NumPy's L^1-norm: 2.4965747882569773\n"
     ]
    }
   ],
   "source": [
    "A = np.random.rand(3,4)\n",
    "print(\"My value for the L^1-norm:\",L1Norm(A))\n",
    "print(\"NumPy's L^1-norm:\",la.norm(A,1))"
   ]
  },
  {
   "cell_type": "markdown",
   "metadata": {},
   "source": [
    "## Q2b\n",
    "\n",
    "The $L^\\infty$ norm is given by \n",
    "\n",
    "$$\\lVert A \\rVert_\\infty = \\max_i \\sum_{j=1}^n |a_{ij}|$$\n",
    "\n",
    "i.e., it is the max of the sums of the absolute values of each row. Write a function that computes the $L^\\infty$-norm using only loops and no special numpy functions."
   ]
  },
  {
   "cell_type": "code",
   "execution_count": 51,
   "metadata": {},
   "outputs": [],
   "source": [
    "def LInfNorm(a):\n",
    "    maxValue = 0\n",
    "    maxbool=True\n",
    "    for i in range(len(a)):\n",
    "        currentSum = 0\n",
    "        for j in range(len(a[0])):\n",
    "            currentSum +=np.abs(a[i,j])\n",
    "        if(maxbool):\n",
    "            maxbool=False\n",
    "            maxValue=currentSum\n",
    "        else:\n",
    "            if currentSum>maxValue:\n",
    "                maxValue = currentSum\n",
    "    return maxValue"
   ]
  },
  {
   "cell_type": "markdown",
   "metadata": {},
   "source": [
    "Check your result against NumPy's `la.norm(A,np.inf)` function for the following random matrix"
   ]
  },
  {
   "cell_type": "code",
   "execution_count": 52,
   "metadata": {},
   "outputs": [
    {
     "name": "stdout",
     "output_type": "stream",
     "text": [
      "My value for the L^inf-norm: 2.7402473435424035\n",
      "NumPy's L^inf-norm: 2.7402473435424035\n"
     ]
    }
   ],
   "source": [
    "A = np.random.rand(3,4)\n",
    "print(\"My value for the L^inf-norm:\",LInfNorm(A))\n",
    "print(\"NumPy's L^inf-norm:\",la.norm(A,np.inf))"
   ]
  },
  {
   "cell_type": "markdown",
   "metadata": {},
   "source": [
    "# Question 3: ill-conditions systems of equations\n",
    "\n",
    "In this question you can use any of NumPy's functions.\n",
    "\n",
    "## Q3a\n",
    "\n",
    "Which of the following three matrices, $A1, A2, A3$, are ill-conditioned. State the reason for your conclusion."
   ]
  },
  {
   "cell_type": "code",
   "execution_count": 53,
   "metadata": {},
   "outputs": [],
   "source": [
    "A1 = np.array([[0.988746460106, 0.351486109477, 0.024911477532, 0.384039749683],\n",
    "       [0.282104657306, 0.239884151775, 0.36170151991 , 0.903082266861],\n",
    "       [0.59333290915 , 0.637178863968, 0.241229214635, 0.685595037901],\n",
    "       [0.013591747828, 0.917926970364, 0.458689093885, 0.157821121254]])\n",
    "\n",
    "A2 = np.array([[ 2.852416473483e-01,  3.803483118694e-01,  2.697704226632e-01,  6.810611849029e-01],\n",
    "       [ 6.622827828376e-01,  6.447943415836e-01,  4.387842058829e-01,  1.530575702376e+00],\n",
    "       [ 3.672130860703e-01,  8.309522079704e-01,  9.975487474007e-01,  5.678296337101e-01],\n",
    "       [ 4.036490000599e-01,  6.865978225967e-06,  8.788095913773e-01, -7.150472427928e-02]])\n",
    "\n",
    "A3 = np.array([[0.131923621844, 0.245316154195, 0.732362341613, 0.957047891764],\n",
    "       [0.91290446184 , 0.512312007959, 0.391938831444, 0.092509684772],\n",
    "       [0.648708523652, 0.608576675797, 0.576773587276, 0.065385122929],\n",
    "       [0.502955480393, 0.084082960221, 0.659487390444, 0.662958739412]])"
   ]
  },
  {
   "cell_type": "code",
   "execution_count": 54,
   "metadata": {},
   "outputs": [
    {
     "name": "stdout",
     "output_type": "stream",
     "text": [
      "L^2 condition number of A1 21.55246648838184\n",
      "L^2 condition number of A2 13334945724.122156\n",
      "L^2 condition number of A3 15.122449699410616\n"
     ]
    }
   ],
   "source": [
    "print(\"L^2 condition number of A1\",la.cond(A1,2))\n",
    "print(\"L^2 condition number of A2\",la.cond(A2,2))\n",
    "print(\"L^2 condition number of A3\",la.cond(A3,2))\n"
   ]
  },
  {
   "cell_type": "markdown",
   "metadata": {},
   "source": [
    "A2 has a large condition number ($\\simeq 13334945724$), making it ill-conditioned.\n",
    "A1 and A3 have low condition numbers, so they are not ill-conditioned"
   ]
  },
  {
   "cell_type": "markdown",
   "metadata": {},
   "source": [
    "# Q3b\n",
    "\n",
    "With $b = [1,2,3,4]$ and $\\delta b = [0.1,0,0,0]$ for $A2$ and $A3$ calculate the percentage change in $x$ due to a small change in $b$, i.e., calculate \n",
    "\n",
    "$$100\\times\\frac{\\lVert \\delta x_i\\rVert_2}{\\lVert x_i \\rVert_2}\\quad\\text{and}\\quad 100\\times\\frac{\\lVert \\delta b\\rVert_2}{\\lVert b \\rVert_2}$$\n",
    "\n",
    "where $(x_i+\\delta x_i)  = A_i^{-1}(b+\\delta b)$ and $i\\in\\{2,3\\}$."
   ]
  },
  {
   "cell_type": "code",
   "execution_count": 56,
   "metadata": {},
   "outputs": [
    {
     "name": "stdout",
     "output_type": "stream",
     "text": [
      "change in b(%): 1.826%\n",
      "(for maxtrix A2) change in x_2(%):512.621%\n",
      "(for maxtrix A3) change in x_3(%):2.174%\n"
     ]
    }
   ],
   "source": [
    "b=np.array([1,2,3,4])\n",
    "db=np.array([.1,0,0,0])\n",
    "\n",
    "#la.norm(db,2)/la.norm(b,2)\n",
    "b_per = 100*la.norm(db,2)/la.norm(b,2)\n",
    "#la.norm(,2)/la.norm(b,2)\n",
    "\n",
    "x2 = np.dot(la.inv(A2),(b))\n",
    "x2_dash = np.dot(la.inv(A2),(b+db))\n",
    "dx2 = x2_dash-x2\n",
    "x2_per = 100*la.norm(dx2,2)/la.norm(x2,2)\n",
    "\n",
    "x3 = np.dot(la.inv(A3),(b))\n",
    "x3_dash = np.dot(la.inv(A3),(b+db))\n",
    "dx3 = x3_dash-x3\n",
    "x3_per = 100*la.norm(dx3,2)/la.norm(x3,2)\n",
    "\n",
    "\n",
    "#np.transpose(A2)*(b+db)\n",
    "\n",
    "print(\"change in b(%%): %0.3f%%\" % b_per)\n",
    "print(\"(for maxtrix A2) change in x_2(%%):%0.3f%%\" % x2_per)\n",
    "print(\"(for maxtrix A3) change in x_3(%%):%0.3f%%\" % x3_per)"
   ]
  },
  {
   "cell_type": "markdown",
   "metadata": {},
   "source": [
    "Which system of equations is more sensitive to small changes in $b$? How could you have guessed this from the answer to the Q3a?"
   ]
  },
  {
   "cell_type": "markdown",
   "metadata": {},
   "source": [
    "# Answer here\n",
    "\n",
    "A2 is more sensitive to changes in b.\n",
    "\n",
    "We could have guessed this from A2's large condition number"
   ]
  },
  {
   "cell_type": "markdown",
   "metadata": {},
   "source": [
    "# Question 4: eigensystems\n",
    "\n",
    "In this question we look at finding eigenvalues and eigenvectors\n",
    "\n",
    "## Q4a\n",
    "\n",
    "You may use any of NumPy's functions for this sub-question.\n",
    "\n",
    "Find the eigenvalues and eigenvectors for the below matrix. Print out the eigenvalues sorted by descending value and explicitly show that eigenvalues/eigenvector pairs satisfy $Ax = \\lambda x$."
   ]
  },
  {
   "cell_type": "code",
   "execution_count": 58,
   "metadata": {},
   "outputs": [],
   "source": [
    "A = np.array([[1,4,5],[4,5,4],[6,7,9]])"
   ]
  },
  {
   "cell_type": "code",
   "execution_count": 70,
   "metadata": {},
   "outputs": [
    {
     "name": "stdout",
     "output_type": "stream",
     "text": [
      "eigenvalue 1: 15.785693179172181 \n",
      "eigenvector 1: [-0.39252008 -0.89589878  0.09818766] \n",
      "\n",
      "eigenvalue 2: 1.2659532728352207 \n",
      "eigenvector 2: [-0.80534308  0.25675168  0.6248558 ] \n",
      "\n",
      "eigenvalue 3: -2.0516464520074047 \n",
      "eigenvector 3: [-0.44424151  0.36255198 -0.77454142] \n",
      "\n",
      "Ax_1: [ -6.1962015   -7.01266016 -12.71289871] , \n",
      "lam_1 x_1: [ -6.1962015   -7.01266016 -12.71289871]\n",
      "Ax_1-lam_1x_1:[-0.00000,-0.00000,0.00000] \n",
      "\n",
      "Ax_2: [ 0.12430099 -0.98053324  0.79103825] , \n",
      "lam_2 x_2: [ 0.12430099 -0.98053324  0.79103825]\n",
      "Ax_2-lam_2x_2:[-0.00000,-0.00000,-0.00000] \n",
      "\n",
      "Ax_3: [ 1.83806756 -0.74382849 -0.52676368] , \n",
      "lam_3 x_3: [ 1.83806756 -0.74382849 -0.52676368]\n",
      "Ax_3-lam_3x_3:[0.00000,0.00000,-0.00000] \n",
      "\n"
     ]
    }
   ],
   "source": [
    "eigs = la.eig(A)\n",
    "\n",
    "#code to sort the indexes of the eigenvalues in descending order\n",
    "values = eigs[0]\n",
    "vectors = eigs[1]    \n",
    "    \n",
    "order = []\n",
    "remove = [0,1,2]\n",
    "k = len(remove)\n",
    "for i in range(k):\n",
    "    largestIn = remove[0]\n",
    "    largestVal = values[remove[0]]\n",
    "    for j in remove:\n",
    "        if values[j] > largestVal:\n",
    "            largestVal = values[j]\n",
    "            largestIn = j\n",
    "    remove.remove(largestIn)\n",
    "    order.append(largestIn)\n",
    "    \n",
    "c=1\n",
    "for i in order:\n",
    "    print(\"eigenvalue %d:\"%(c),values[i],\"\\neigenvector %d:\"%(c),vectors[i],\"\\n\")\n",
    "    c+=1\n",
    "c=1\n",
    "for i in order:\n",
    "    print(\"Ax_%d:\"%(c),np.dot(A,vectors[:,i]),\", \\nlam_%d x_%d:\"%(c,c),np.dot(values[i],vectors[:,i]),)\n",
    "    diff = (np.dot(A,vectors[:,i])-np.dot(values[i],vectors[:,i]))\n",
    "    print(\"Ax_%d-lam_%dx_%d:[%0.5f,%0.5f,%0.5f]\"%(c,c,c,diff[0],diff[1],diff[2]),\"\\n\")\n",
    "    c+=1"
   ]
  },
  {
   "cell_type": "markdown",
   "metadata": {},
   "source": [
    "# Q4b\n",
    "\n",
    "Without using NumPy's `la.eig()` (or similar functions), find the 4 eigenvalues and eigenvectors of the following matrix. Hint: Use the power method for the max eigenvalue (given below in `MaxEigenvalue`), the power method applied to the inverse for the smallest eigenvalue, and apply Hotelling's deflation twice to find the second and third eigenvalues/eigenvectors."
   ]
  },
  {
   "cell_type": "code",
   "execution_count": 71,
   "metadata": {},
   "outputs": [],
   "source": [
    "A = np.array([[1.935052353404, 0.887037260957, 1.534235483277, 1.370691224125],\n",
    "       [0.887037260957, 0.81275989158 , 0.610238622918, 0.999150521052],\n",
    "       [1.534235483277, 0.610238622918, 1.562260333538, 1.007843062517],\n",
    "       [1.370691224125, 0.999150521052, 1.007843062517, 1.813258814483]])"
   ]
  },
  {
   "cell_type": "code",
   "execution_count": 72,
   "metadata": {},
   "outputs": [],
   "source": [
    "def MaxEigenvalue(A, err):\n",
    "    (m,n) = A.shape\n",
    "    if(m != n):\n",
    "        print(\"Matrix must be square\")\n",
    "        return\n",
    "    x = np.random.rand(m)\n",
    "    \n",
    "    lam = 0.1\n",
    "    lamprev = 1\n",
    "    while np.abs(1-lam/lamprev) > err:\n",
    "        p = np.dot(A,x)\n",
    "        lamprev = lam\n",
    "        lam = np.max(p)\n",
    "        x = p/lam\n",
    "\n",
    "    x = x/la.norm(lam)\n",
    "    return (lam,x)"
   ]
  },
  {
   "cell_type": "code",
   "execution_count": 73,
   "metadata": {},
   "outputs": [
    {
     "name": "stdout",
     "output_type": "stream",
     "text": [
      "Eigenvalue: 4.914804 \n",
      "Eigenvector: [0.59947641 0.33318806 0.49528112 0.53320761] \n",
      "\n",
      "Eigenvalue: 0.850582 \n",
      "Eigenvector: [-0.30724064  0.3894447  -0.58292464  0.64353313] \n",
      "\n",
      "Eigenvalue: 0.215128 \n",
      "Eigenvector: [-0.38116859 -0.67389895  0.34000478  0.53382343] \n",
      "\n",
      "Eigenvalue: 0.142817 \n",
      "Eigenvector: [-0.63319959  0.53214542  0.54707607 -0.12879173] \n",
      "\n"
     ]
    }
   ],
   "source": [
    "eigenList = [0,0,0,0]\n",
    "\n",
    "#maximum eigenvalue\n",
    "eigenList[0] = MaxEigenvalue(A,10**-12)\n",
    "\n",
    "#normalise\n",
    "sum = 0\n",
    "for i in eigenList[0][1]:\n",
    "    sum+= i**2\n",
    "eigenList[0] = (eigenList[0][0], np.array(eigenList[0][1]/np.sqrt(sum)))\n",
    "\n",
    "#second to maximum eigenvalue\n",
    "matrix_eig_1 = A - np.dot(eigenList[0][0],(np.outer((eigenList[0][1]),eigenList[0][1])))\n",
    "eigenList[1] = MaxEigenvalue(matrix_eig_1,10**-12)\n",
    "\n",
    "#normalise\n",
    "sum = 0\n",
    "for i in eigenList[1][1]:\n",
    "    sum+= i**2\n",
    "    \n",
    "eigenList[1] = (eigenList[1][0], np.array(eigenList[1][1]/np.sqrt(sum)))\n",
    "\n",
    "\n",
    "#minimum eigenvalue\n",
    "\n",
    "# The power method seems to get stuck on A - lam_max * identity\n",
    "# Instead I used (lam_max * identity - A)x_i = (lam_max - lam_i)x_i\n",
    "matrix_eig_3 = np.identity(4)*eigenList[0][0] - A\n",
    "eigenList[3] = MaxEigenvalue(matrix_eig_3,10**-12)\n",
    "\n",
    "#normalise\n",
    "sum = 0\n",
    "for i in eigenList[3][1]:\n",
    "    sum+= i**2\n",
    "    \n",
    "eigenList[3] = (eigenList[0][0] - eigenList[3][0], np.array(eigenList[3][1]/np.sqrt(sum)))\n",
    "\n",
    "\n",
    "#second to minimum eigenvalue\n",
    "matrix_eig_2 = matrix_eig_3 - np.dot(eigenList[3][0],(np.outer((eigenList[3][1]),eigenList[3][1])))\n",
    "eigenList[2] = MaxEigenvalue(matrix_eig_2,10**-12)\n",
    "\n",
    "#normalise\n",
    "sum = 0\n",
    "for i in eigenList[2][1]:\n",
    "    sum+= i**2\n",
    "    \n",
    "eigenList[2] = (eigenList[0][0] - eigenList[2][0], np.array(eigenList[2][1]/np.sqrt(sum)))\n",
    "\n",
    "for i in range(len(eigenList)):\n",
    "    print(\"Eigenvalue: %f \\nEigenvector:\" %(eigenList[i][0]),eigenList[i][1],\"\\n\")\n"
   ]
  },
  {
   "cell_type": "markdown",
   "metadata": {},
   "source": [
    "Check your answers against Numpy's results from `la.eig(A)`"
   ]
  },
  {
   "cell_type": "code",
   "execution_count": 74,
   "metadata": {},
   "outputs": [
    {
     "name": "stdout",
     "output_type": "stream",
     "text": [
      "My Eigenvalue: 4.914804\n",
      "NumPy's Eigenvalue: 4.914804,\n",
      "My Eigenvector: [0.59947641 0.33318806 0.49528112 0.53320761] \n",
      "NumPy's Eigenvector [0.59947641 0.33318806 0.49528112 0.53320761] \n",
      "\n",
      "My Eigenvalue: 0.850582\n",
      "NumPy's Eigenvalue: 0.850582,\n",
      "My Eigenvector: [-0.30724064  0.3894447  -0.58292464  0.64353313] \n",
      "NumPy's Eigenvector [ 0.30724064 -0.3894447   0.58292464 -0.64353313] \n",
      "\n",
      "My Eigenvalue: 0.215128\n",
      "NumPy's Eigenvalue: 0.215128,\n",
      "My Eigenvector: [-0.38116859 -0.67389895  0.34000478  0.53382343] \n",
      "NumPy's Eigenvector [-0.3811686  -0.67389895  0.34000478  0.53382343] \n",
      "\n",
      "My Eigenvalue: 0.142817\n",
      "NumPy's Eigenvalue: 0.142817,\n",
      "My Eigenvector: [-0.63319959  0.53214542  0.54707607 -0.12879173] \n",
      "NumPy's Eigenvector [-0.63319959  0.53214542  0.54707607 -0.12879172] \n",
      "\n"
     ]
    }
   ],
   "source": [
    "eigs = la.eig(A)\n",
    "\n",
    "#code to sort the indexes of (NumPy's) eigenvalues in descending order\n",
    "values = eigs[0]\n",
    "vectors = eigs[1]\n",
    "    \n",
    "order = []\n",
    "remove = [0,1,2,3]\n",
    "k = len(remove)\n",
    "for i in range(k):\n",
    "    largestIn = remove[0]\n",
    "    largestVal = values[remove[0]]\n",
    "    for j in remove:\n",
    "        if values[j] > largestVal:\n",
    "            largestVal = values[j]\n",
    "            largestIn = j\n",
    "    remove.remove(largestIn)\n",
    "    order.append(largestIn)       \n",
    "\n",
    "    \n",
    "c=0 \n",
    "for i in order:\n",
    "    print(\"My Eigenvalue: %f\\nNumPy's Eigenvalue: %f,\" %(eigenList[c][0],values[i]))\n",
    "    print(\"My Eigenvector:\",eigenList[c][1],\"\\nNumPy's Eigenvector\",vectors[:,i],\"\\n\")\n",
    "    c+=1\n"
   ]
  },
  {
   "cell_type": "code",
   "execution_count": null,
   "metadata": {},
   "outputs": [],
   "source": []
  },
  {
   "cell_type": "code",
   "execution_count": null,
   "metadata": {},
   "outputs": [],
   "source": []
  }
 ],
 "metadata": {
  "kernelspec": {
   "display_name": "Python 3",
   "language": "python",
   "name": "python3"
  },
  "language_info": {
   "codemirror_mode": {
    "name": "ipython",
    "version": 3
   },
   "file_extension": ".py",
   "mimetype": "text/x-python",
   "name": "python",
   "nbconvert_exporter": "python",
   "pygments_lexer": "ipython3",
   "version": "3.8.2"
  }
 },
 "nbformat": 4,
 "nbformat_minor": 2
}
