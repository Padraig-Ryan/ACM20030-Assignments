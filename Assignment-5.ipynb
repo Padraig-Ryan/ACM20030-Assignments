{
 "cells": [
  {
   "cell_type": "markdown",
   "metadata": {},
   "source": [
    "#  Assignment 5\n",
    "\n",
    "This assignment covers material on matrices, norms, condition numbers and eigensystems. The assignment is due by 5pm on Friday the 17th of April.\n",
    "\n",
    "The breakdown of the marks is as follows:\n",
    "\n",
    "Question 0 - [1 mark]  \n",
    "Question 1 - [7 marks]  \n",
    "Questino 2 - [6 marks]  \n",
    "Question 3 - [7 marks]  \n",
    "Question 4 - [9 marks]  "
   ]
  },
  {
   "cell_type": "markdown",
   "metadata": {},
   "source": [
    "# Question 0\n",
    "\n",
    "You should have saved this notebook to your ACM20030-Assignments folder. Now:\n",
    "- commit the notebook to your local repository\n",
    "- push the changes to the GitHub"
   ]
  },
  {
   "cell_type": "code",
   "execution_count": 1,
   "metadata": {},
   "outputs": [],
   "source": [
    "import numpy as np\n",
    "from numpy import linalg as la\n",
    "np.set_printoptions(linewidth=200)  # This stops line wrapping of larger matrices"
   ]
  },
  {
   "cell_type": "markdown",
   "metadata": {},
   "source": [
    "# Question 1 - practice manipulating arrays\n",
    "\n",
    "This questions asks you write a few functions for manipulating arrays of data"
   ]
  },
  {
   "cell_type": "markdown",
   "metadata": {},
   "source": [
    "## Q1 a\n",
    "\n",
    "Write a function that checks if a given $n\\times n$ matrix is symmetric. Use only loops and `.shape` function from numpy (do not use any other special numpy functions)."
   ]
  },
  {
   "cell_type": "code",
   "execution_count": 2,
   "metadata": {},
   "outputs": [],
   "source": [
    "def checkSymmetric(a):\n",
    "    n=len(a)\n",
    "    #print(n)\n",
    "    for i in range(0,n):\n",
    "        for j in range(i+1,n):\n",
    "            #print(i,j,a[i,j],a[j,i])\n",
    "            if(not a[i,j]==a[j,i]):\n",
    "                return False\n",
    "                \n",
    "    return True"
   ]
  },
  {
   "cell_type": "markdown",
   "metadata": {},
   "source": [
    "Test your function on the two matrices below"
   ]
  },
  {
   "cell_type": "code",
   "execution_count": 3,
   "metadata": {},
   "outputs": [],
   "source": [
    "A = np.random.rand(5,5)\n",
    "SymMatrix = (A + A.T)/2"
   ]
  },
  {
   "cell_type": "code",
   "execution_count": 4,
   "metadata": {},
   "outputs": [
    {
     "data": {
      "text/plain": [
       "False"
      ]
     },
     "execution_count": 4,
     "metadata": {},
     "output_type": "execute_result"
    }
   ],
   "source": [
    "#print(A)\n",
    "checkSymmetric(A)"
   ]
  },
  {
   "cell_type": "code",
   "execution_count": 5,
   "metadata": {},
   "outputs": [
    {
     "data": {
      "text/plain": [
       "True"
      ]
     },
     "execution_count": 5,
     "metadata": {},
     "output_type": "execute_result"
    }
   ],
   "source": [
    "checkSymmetric(SymMatrix)"
   ]
  },
  {
   "cell_type": "markdown",
   "metadata": {},
   "source": [
    "## Q1 b\n",
    "\n",
    "Write a function to transpose a general $n\\times n$ matrix. Do this by writing loops and not using any special functions like `np.transpose()`, `A.T`, or any functions from any other library."
   ]
  },
  {
   "cell_type": "code",
   "execution_count": 6,
   "metadata": {},
   "outputs": [],
   "source": [
    "def matrixTranspose(a):\n",
    "    n=len(a)\n",
    "    out = np.zeros((n,n))\n",
    "    for i in range(n):\n",
    "        for j in range(n):\n",
    "            out[j,i]=a[i,j]\n",
    "    #print(out)\n",
    "    return out\n",
    "\n",
    "def matrixEquals(a,b):\n",
    "    if (not len(a)==len(b)):\n",
    "        return False\n",
    "    if (not len(a[0])==len(b[0])):\n",
    "        return False\n",
    "    for i in range(len(a)):\n",
    "        for j in range(len(a[0])):\n",
    "            if(not a[i,j]==b[i,j]):\n",
    "                return False\n",
    "    return True"
   ]
  },
  {
   "cell_type": "markdown",
   "metadata": {},
   "source": [
    "Check your code by transposing the below random matrix and checking that $A^T \\neq A$ and $(A^T)^T - A = 0$"
   ]
  },
  {
   "cell_type": "code",
   "execution_count": 7,
   "metadata": {
    "scrolled": false
   },
   "outputs": [
    {
     "name": "stdout",
     "output_type": "stream",
     "text": [
      "A: [[0.7946158  0.45363754 0.3559446  0.90097908 0.40041734 0.75895411]\n",
      " [0.65227272 0.13672308 0.38253198 0.86448285 0.32533951 0.82939772]\n",
      " [0.00466846 0.84501212 0.8048021  0.85635391 0.90699085 0.17829562]\n",
      " [0.06366871 0.52978663 0.55674597 0.53043422 0.23981077 0.21270221]\n",
      " [0.58889485 0.16932974 0.91382951 0.67648445 0.51902493 0.09170533]\n",
      " [0.00904789 0.19903732 0.26011409 0.57227172 0.33430065 0.51740359]]\n",
      "A^T: [[0.7946158  0.65227272 0.00466846 0.06366871 0.58889485 0.00904789]\n",
      " [0.45363754 0.13672308 0.84501212 0.52978663 0.16932974 0.19903732]\n",
      " [0.3559446  0.38253198 0.8048021  0.55674597 0.91382951 0.26011409]\n",
      " [0.90097908 0.86448285 0.85635391 0.53043422 0.67648445 0.57227172]\n",
      " [0.40041734 0.32533951 0.90699085 0.23981077 0.51902493 0.33430065]\n",
      " [0.75895411 0.82939772 0.17829562 0.21270221 0.09170533 0.51740359]]\n",
      "A==A^T? False\n",
      "(A^T)^T-A==0? True\n"
     ]
    }
   ],
   "source": [
    "A = np.random.rand(6,6)\n",
    "At = matrixTranspose(A)\n",
    "print(\"A:\",A)\n",
    "print(\"A^T:\",At)\n",
    "print(\"A==A^T?\",matrixEquals(A,At))\n",
    "print(\"(A^T)^T-A==0?\",matrixEquals(matrixTranspose(At)-A,np.zeros((len(A),len(A)))))\n"
   ]
  },
  {
   "cell_type": "markdown",
   "metadata": {},
   "source": [
    "## Q1c\n",
    "\n",
    "Write a function that finds the maximum entry in a matrix (where the matrix does not need to be square). Do this by writing loops and not using any special functions like `np.max` or any functions from any other library."
   ]
  },
  {
   "cell_type": "code",
   "execution_count": 8,
   "metadata": {},
   "outputs": [],
   "source": [
    "def matrixMax(a):\n",
    "    \n",
    "    maxIndex = (0,0)\n",
    "    maxValue = a[maxIndex]\n",
    "    #print(maxValue)\n",
    "    for i in range(len(a)):\n",
    "        for j in range(len(a[0])):\n",
    "            if(a[i,j]>maxValue):\n",
    "                maxValue = a[i,j]\n",
    "                maxIndex = (i,j)\n",
    "    return maxValue"
   ]
  },
  {
   "cell_type": "markdown",
   "metadata": {},
   "source": [
    "Check your result by comparing to `np.max(A)` for the below random matrix"
   ]
  },
  {
   "cell_type": "code",
   "execution_count": 9,
   "metadata": {},
   "outputs": [
    {
     "data": {
      "text/plain": [
       "0.9002438560371514"
      ]
     },
     "execution_count": 9,
     "metadata": {},
     "output_type": "execute_result"
    }
   ],
   "source": [
    "A = np.random.rand(4,5)\n",
    "#print(A[0,0])\n",
    "matrixMax(A)"
   ]
  },
  {
   "cell_type": "markdown",
   "metadata": {},
   "source": [
    "# Question 2:  matrix norms\n",
    "\n",
    "In the lectures we focused on the $L^2$-norm. We also briefly mentioned the $L^1$ and $L^\\infty$ norm. Let's look at calculating those as well for a general $m\\times n$ matrix."
   ]
  },
  {
   "cell_type": "markdown",
   "metadata": {},
   "source": [
    "# Q2a\n",
    "\n",
    "The $L^1$ norm is given by\n",
    "\n",
    "$$ \\lVert A \\rVert_1 = \\max_j \\sum^m_{i=1} |a_{ij}| $$\n",
    "\n",
    "i.e., it is the max of the sums of the absolute values of each column. Write a function that computes the $L^1$-norm using only loops. The function should use no special numpy functions except `np.abs()`."
   ]
  },
  {
   "cell_type": "code",
   "execution_count": 10,
   "metadata": {},
   "outputs": [],
   "source": [
    "def L1Norm(a):\n",
    "    maxValue = 0\n",
    "    maxbool=True\n",
    "    for j in range(len(a[0])):\n",
    "        currentSum = 0\n",
    "        for i in range(len(a)):\n",
    "            currentSum +=np.abs(a[i,j])\n",
    "        if(maxbool):\n",
    "            maxbool=False\n",
    "            maxValue=currentSum\n",
    "        else:\n",
    "            if currentSum>maxValue:\n",
    "                maxValue = currentSum\n",
    "    return maxValue"
   ]
  },
  {
   "cell_type": "markdown",
   "metadata": {},
   "source": [
    "Check your result against NumPy's `la.norm(A,1)` function for the following random matrix"
   ]
  },
  {
   "cell_type": "code",
   "execution_count": 11,
   "metadata": {},
   "outputs": [
    {
     "name": "stdout",
     "output_type": "stream",
     "text": [
      "My value for the L^1-norm: 2.2346650204409473\n",
      "NumPy's L^1-norm: 2.2346650204409473\n"
     ]
    }
   ],
   "source": [
    "A = np.random.rand(3,4)\n",
    "print(\"My value for the L^1-norm:\",L1Norm(A))\n",
    "print(\"NumPy's L^1-norm:\",la.norm(A,1))"
   ]
  },
  {
   "cell_type": "markdown",
   "metadata": {},
   "source": [
    "## Q2b\n",
    "\n",
    "The $L^\\infty$ norm is given by \n",
    "\n",
    "$$\\lVert A \\rVert_\\infty = \\max_i \\sum_{j=1}^n |a_{ij}|$$\n",
    "\n",
    "i.e., it is the max of the sums of the absolute values of each row. Write a function that computes the $L^\\infty$-norm using only loops and no special numpy functions."
   ]
  },
  {
   "cell_type": "code",
   "execution_count": 12,
   "metadata": {},
   "outputs": [],
   "source": [
    "def LInfNorm(a):\n",
    "    maxValue = 0\n",
    "    maxbool=True\n",
    "    for i in range(len(a)):\n",
    "        currentSum = 0\n",
    "        for j in range(len(a[0])):\n",
    "            currentSum +=np.abs(a[i,j])\n",
    "        if(maxbool):\n",
    "            maxbool=False\n",
    "            maxValue=currentSum\n",
    "        else:\n",
    "            if currentSum>maxValue:\n",
    "                maxValue = currentSum\n",
    "    return maxValue"
   ]
  },
  {
   "cell_type": "markdown",
   "metadata": {},
   "source": [
    "Check your result against NumPy's `la.norm(A,np.inf)` function for the following random matrix"
   ]
  },
  {
   "cell_type": "code",
   "execution_count": 13,
   "metadata": {},
   "outputs": [
    {
     "name": "stdout",
     "output_type": "stream",
     "text": [
      "My value for the L^inf-norm: 2.167630990907737\n",
      "NumPy's L^inf-norm: 2.167630990907737\n"
     ]
    }
   ],
   "source": [
    "A = np.random.rand(3,4)\n",
    "print(\"My value for the L^inf-norm:\",LInfNorm(A))\n",
    "print(\"NumPy's L^inf-norm:\",la.norm(A,np.inf))"
   ]
  },
  {
   "cell_type": "markdown",
   "metadata": {},
   "source": [
    "# Question 3: ill-conditions systems of equations\n",
    "\n",
    "In this question you can use any of NumPy's functions.\n",
    "\n",
    "## Q3a\n",
    "\n",
    "Which of the following three matrices, $A1, A2, A3$, are ill-conditioned. State the reason for your conclusion."
   ]
  },
  {
   "cell_type": "code",
   "execution_count": 14,
   "metadata": {},
   "outputs": [],
   "source": [
    "A1 = np.array([[0.988746460106, 0.351486109477, 0.024911477532, 0.384039749683],\n",
    "       [0.282104657306, 0.239884151775, 0.36170151991 , 0.903082266861],\n",
    "       [0.59333290915 , 0.637178863968, 0.241229214635, 0.685595037901],\n",
    "       [0.013591747828, 0.917926970364, 0.458689093885, 0.157821121254]])\n",
    "\n",
    "A2 = np.array([[ 2.852416473483e-01,  3.803483118694e-01,  2.697704226632e-01,  6.810611849029e-01],\n",
    "       [ 6.622827828376e-01,  6.447943415836e-01,  4.387842058829e-01,  1.530575702376e+00],\n",
    "       [ 3.672130860703e-01,  8.309522079704e-01,  9.975487474007e-01,  5.678296337101e-01],\n",
    "       [ 4.036490000599e-01,  6.865978225967e-06,  8.788095913773e-01, -7.150472427928e-02]])\n",
    "\n",
    "A3 = np.array([[0.131923621844, 0.245316154195, 0.732362341613, 0.957047891764],\n",
    "       [0.91290446184 , 0.512312007959, 0.391938831444, 0.092509684772],\n",
    "       [0.648708523652, 0.608576675797, 0.576773587276, 0.065385122929],\n",
    "       [0.502955480393, 0.084082960221, 0.659487390444, 0.662958739412]])"
   ]
  },
  {
   "cell_type": "code",
   "execution_count": 15,
   "metadata": {},
   "outputs": [
    {
     "name": "stdout",
     "output_type": "stream",
     "text": [
      "L^2 condition number of A1 21.55246648838184\n",
      "L^2 condition number of A2 13334945724.122156\n",
      "L^2 condition number of A3 15.122449699410616\n"
     ]
    }
   ],
   "source": [
    "print(\"L^2 condition number of A1\",la.cond(A1,2))\n",
    "print(\"L^2 condition number of A2\",la.cond(A2,2))\n",
    "print(\"L^2 condition number of A3\",la.cond(A3,2))\n"
   ]
  },
  {
   "cell_type": "markdown",
   "metadata": {},
   "source": [
    "A2 has a large condition number ($\\simeq 13334945724$), making it ill-conditioned.\n",
    "A1 and A3 have low condition numbers, so they are not ill-conditioned"
   ]
  },
  {
   "cell_type": "markdown",
   "metadata": {},
   "source": [
    "# Q3b\n",
    "\n",
    "With $b = [1,2,3,4]$ and $\\delta b = [0.1,0,0,0]$ for $A2$ and $A3$ calculate the percentage change in $x$ due to a small change in $b$, i.e., calculate \n",
    "\n",
    "$$100\\times\\frac{\\lVert \\delta x_i\\rVert_2}{\\lVert x_i \\rVert_2}\\quad\\text{and}\\quad 100\\times\\frac{\\lVert \\delta b\\rVert_2}{\\lVert b \\rVert_2}$$\n",
    "\n",
    "where $(x_i+\\delta x_i)  = A_i^{-1}(b+\\delta b)$ and $i\\in\\{2,3\\}$."
   ]
  },
  {
   "cell_type": "code",
   "execution_count": 16,
   "metadata": {},
   "outputs": [
    {
     "name": "stdout",
     "output_type": "stream",
     "text": [
      "change in b(%): 1.826%\n",
      "change in x_2(%):512.621%\n",
      "change in x_3(%):2.174%\n"
     ]
    }
   ],
   "source": [
    "b=np.array([1,2,3,4])\n",
    "db=np.array([.1,0,0,0])\n",
    "\n",
    "#la.norm(db,2)/la.norm(b,2)\n",
    "b_per = 100*la.norm(db,2)/la.norm(b,2)\n",
    "#la.norm(,2)/la.norm(b,2)\n",
    "\n",
    "x2 = np.dot(la.inv(A2),(b))\n",
    "x2_dash = np.dot(la.inv(A2),(b+db))\n",
    "dx2 = x2_dash-x2\n",
    "x2_per = 100*la.norm(dx2,2)/la.norm(x2,2)\n",
    "\n",
    "x3 = np.dot(la.inv(A3),(b))\n",
    "x3_dash = np.dot(la.inv(A3),(b+db))\n",
    "dx3 = x3_dash-x3\n",
    "x3_per = 100*la.norm(dx3,2)/la.norm(x3,2)\n",
    "\n",
    "\n",
    "#np.transpose(A2)*(b+db)\n",
    "\n",
    "print(\"change in b(%%): %0.3f%%\" % b_per)\n",
    "print(\"change in x_2(%%):%0.3f%%\" % x2_per)\n",
    "print(\"change in x_3(%%):%0.3f%%\" % x3_per)"
   ]
  },
  {
   "cell_type": "markdown",
   "metadata": {},
   "source": [
    "Which system of equations is more sensitive to small changes in $b$? How could you have guessed this from the answer to the Q3a?"
   ]
  },
  {
   "cell_type": "markdown",
   "metadata": {},
   "source": [
    "Answer here\n",
    "\n",
    "A2 is more sensitive to changes in b.\n",
    "\n",
    "We could have guessed this from A2's large condition number"
   ]
  },
  {
   "cell_type": "markdown",
   "metadata": {},
   "source": [
    "# Question 4: eigensystems\n",
    "\n",
    "In this question we look at finding eigenvalues and eigenvectors\n",
    "\n",
    "## Q4a\n",
    "\n",
    "You may use any of NumPy's functions for this sub-question.\n",
    "\n",
    "Find the eigenvalues and eigenvectors for the below matrix. Print out the eigenvalues sorted by descending value and explicitly show that eigenvalues/eigenvector pairs satisfy $Ax = \\lambda x$."
   ]
  },
  {
   "cell_type": "code",
   "execution_count": 17,
   "metadata": {},
   "outputs": [],
   "source": [
    "A = np.array([[1,4,5],[4,5,4],[6,7,9]])"
   ]
  },
  {
   "cell_type": "code",
   "execution_count": 18,
   "metadata": {},
   "outputs": [
    {
     "name": "stdout",
     "output_type": "stream",
     "text": [
      "lam_1: 15.785693179172181\n",
      "lam_2: 1.2659532728352207\n",
      "lam_3: -2.0516464520074047\n",
      "Ax_1: [ -6.1962015   -7.01266016 -12.71289871] , lam_1 x_1: [ -6.1962015   -7.01266016 -12.71289871]\n",
      "Ax_2: [ 0.12430099 -0.98053324  0.79103825] , lam_2 x_2: [ 0.12430099 -0.98053324  0.79103825]\n",
      "Ax_3: [ 1.83806756 -0.74382849 -0.52676368] , lam_3 x_3: [ 1.83806756 -0.74382849 -0.52676368]\n"
     ]
    }
   ],
   "source": [
    "eigs = la.eig(A)\n",
    "#print(eigs)\n",
    "\n",
    "values = eigs[0]\n",
    "vectors = eigs[1]\n",
    "\n",
    "order = []\n",
    "remove = [0,1,2]\n",
    "for i in remove:\n",
    "    largestIn = remove[0]\n",
    "    largestVal = values[remove[0]]\n",
    "    for j in remove:\n",
    "        if values[j] > largestVal:\n",
    "            largestVal = values[j]\n",
    "            largestIn = j\n",
    "            #print(largestIn)\n",
    "    remove.remove(largestIn)\n",
    "    order.append(largestIn)\n",
    "order.append(remove[0])          \n",
    "            \n",
    "#print(values)\n",
    "#print(vectors)\n",
    "#print(order)\n",
    "c=1\n",
    "for i in order:\n",
    "    print(\"lam_%d:\"%(c),values[i])\n",
    "    c+=1\n",
    "c=1\n",
    "for i in order:\n",
    "    print(\"Ax_%d:\"%(c),np.dot(A,vectors[:,i]),\", lam_%d x_%d:\"%(c,c),np.dot(values[i],vectors[:,i]))\n",
    "    c+=1\n",
    "\n",
    "\n",
    "#print(\"Ax_1:\",np.dot(A,vectors[0]),\", lam_1 x_1:\",np.dot(values[0],vectors[0]))\n",
    "#print(\"Ax_2:\",np.dot(A,vectors[1]),\", lam_2 x_2:\",np.dot(values[1],vectors[1]))\n",
    "#print(\"Ax_3:\",np.dot(A,vectors[2]),\", lam_3 x_3:\",np.dot(values[2],vectors[2]))\n"
   ]
  },
  {
   "cell_type": "markdown",
   "metadata": {},
   "source": [
    "# Q4b\n",
    "\n",
    "Without using NumPy's `la.eig()` (or similar functions), find the 4 eigenvalues and eigenvectors of the following matrix. Hint: Use the power method for the max eigenvalue (given below in `MaxEigenvalue`), the power method applied to the inverse for the smallest eigenvalue, and apply Hotelling's deflation twice to find the second and third eigenvalues/eigenvectors."
   ]
  },
  {
   "cell_type": "code",
   "execution_count": 36,
   "metadata": {},
   "outputs": [],
   "source": [
    "A = np.array([[1.935052353404, 0.887037260957, 1.534235483277, 1.370691224125],\n",
    "       [0.887037260957, 0.81275989158 , 0.610238622918, 0.999150521052],\n",
    "       [1.534235483277, 0.610238622918, 1.562260333538, 1.007843062517],\n",
    "       [1.370691224125, 0.999150521052, 1.007843062517, 1.813258814483]])"
   ]
  },
  {
   "cell_type": "code",
   "execution_count": 64,
   "metadata": {},
   "outputs": [],
   "source": [
    "def MaxEigenvalue(A, err):\n",
    "    (m,n) = A.shape\n",
    "    if(m != n):\n",
    "        print(\"Matrix must be square\")\n",
    "        return\n",
    "    x = np.random.rand(m)\n",
    "    \n",
    "    lam = 0.1\n",
    "    lamprev = 1\n",
    "    while np.abs(1-lam/lamprev) > err:\n",
    "        p = np.dot(A,x)\n",
    "        lamprev = lam\n",
    "        lam = np.max(p)\n",
    "        x = p/lam\n",
    "\n",
    "    x = x/la.norm(lam)\n",
    "    return (lam,x)"
   ]
  },
  {
   "cell_type": "code",
   "execution_count": null,
   "metadata": {},
   "outputs": [],
   "source": [
    "eigenList = [0,0,0,0]\n",
    "\n",
    "#maximum eigenvalue\n",
    "eigenList[0] = MaxEigenvalue(A,10**-12)\n",
    "sum = 0\n",
    "for i in eigenList[0][1]:\n",
    "    sum+= i**2\n",
    "\n",
    "eigenList[0] = (eigenList[0][0], np.array(eigenList[0][1]/np.sqrt(sum)))\n",
    "\n",
    "#2nd biggest eigenvalue\n",
    "matrix_eig_1 = A - np.dot(eigenList[0][0],(np.outer((eigenList[0][1]),eigenList[0][1])))\n",
    "eigenList[1] = MaxEigenvalue(matrix_eig_1,10**-12)\n",
    "\n",
    "sum = 0\n",
    "for i in eigenList[1][1]:\n",
    "    sum+= i**2\n",
    "    \n",
    "eigenList[1] = (eigenList[1][0], np.array(eigenList[1][1]/np.sqrt(sum)))\n",
    "\n",
    "\n",
    "#minimum eigenvalue\n",
    "matrix_eig_3 = A - eigenList[0][0] * np.identity(4)\n",
    "MaxEigenvalue(matrix_eig_3,10**-12)\n",
    "\n"
   ]
  },
  {
   "cell_type": "markdown",
   "metadata": {},
   "source": [
    "Check your answers against Numpy's results from `la.eig(A)`"
   ]
  },
  {
   "cell_type": "code",
   "execution_count": 25,
   "metadata": {},
   "outputs": [
    {
     "data": {
      "text/plain": [
       "(array([4.91480442, 0.85058153, 0.14281707, 0.21512836]),\n",
       " array([[ 0.59947641,  0.30724064, -0.63319959, -0.3811686 ],\n",
       "        [ 0.33318806, -0.3894447 ,  0.53214542, -0.67389895],\n",
       "        [ 0.49528112,  0.58292464,  0.54707607,  0.34000478],\n",
       "        [ 0.53320761, -0.64353313, -0.12879172,  0.53382343]]))"
      ]
     },
     "execution_count": 25,
     "metadata": {},
     "output_type": "execute_result"
    }
   ],
   "source": [
    "la.eig(A)"
   ]
  },
  {
   "cell_type": "code",
   "execution_count": null,
   "metadata": {},
   "outputs": [],
   "source": []
  }
 ],
 "metadata": {
  "kernelspec": {
   "display_name": "Python 3",
   "language": "python",
   "name": "python3"
  },
  "language_info": {
   "codemirror_mode": {
    "name": "ipython",
    "version": 3
   },
   "file_extension": ".py",
   "mimetype": "text/x-python",
   "name": "python",
   "nbconvert_exporter": "python",
   "pygments_lexer": "ipython3",
   "version": "3.8.2"
  }
 },
 "nbformat": 4,
 "nbformat_minor": 2
}
